{
 "cells": [
  {
   "cell_type": "markdown",
   "metadata": {},
   "source": [
    "### Chip nguyen's python is cool\n",
    "\n",
    "1. ### lambda function"
   ]
  },
  {
   "cell_type": "code",
   "execution_count": null,
   "metadata": {},
   "outputs": [],
   "source": [
    "# import section\n",
    "from typing import Iterable, Tuple, Dict, List, Optional"
   ]
  },
  {
   "cell_type": "code",
   "execution_count": 1,
   "metadata": {},
   "outputs": [],
   "source": [
    "def square_fn(x: float)-> float:\n",
    "    return x * x\n",
    "\n",
    "# square with lambda\n",
    "square_ld = lambda x: x * x\n"
   ]
  },
  {
   "cell_type": "code",
   "execution_count": 4,
   "metadata": {},
   "outputs": [],
   "source": [
    "## test square function vs lamba\n",
    "for i in range(10):\n",
    "    assert square_fn(i)  == square_ld(i)"
   ]
  },
  {
   "cell_type": "code",
   "execution_count": 8,
   "metadata": {},
   "outputs": [
    {
     "name": "stdout",
     "output_type": "stream",
     "text": [
      "function map\n",
      "[0.1111111111111111, 2263.0408163265306, 1.0949454183913645, 0.87890625, 0.765625]\n",
      "lambda map\n",
      "[0.1111111111111111, 2263.0408163265306, 1.0949454183913645, 0.87890625, 0.765625]\n"
     ]
    }
   ],
   "source": [
    "# compare map with with  lamba\n",
    "nums = [1/3, 333/7, 2323/2220, 30/32, 7/8]\n",
    "nums_squared_fn_map = map(square_fn, nums)\n",
    "nums_squared_ld_map = map(lambda x: x * x , nums)\n",
    "print('function map')\n",
    "print(list(nums_squared_fn_map))\n",
    "print('lambda map')\n",
    "print(list(nums_squared_ld_map))"
   ]
  },
  {
   "cell_type": "code",
   "execution_count": 13,
   "metadata": {},
   "outputs": [
    {
     "name": "stdout",
     "output_type": "stream",
     "text": [
      "0.4925000000000004\n",
      "0.4925000000000004\n"
     ]
    }
   ],
   "source": [
    "## mean squared error\n",
    "a, b  = 3, -0.5\n",
    "xs = [2, 3, 4, 5]\n",
    "labels = [6.4, 8.9, 10.9, 15.3]\n",
    "errors = []\n",
    "\n",
    "for i, x in enumerate(xs):\n",
    "    errors.append((a * x + b - labels[i])**2)\n",
    "MSE = sum(errors)/len(xs)\n",
    "print(MSE)\n",
    "## doing same usng lambdas\n",
    "errors_ld = map(lambda x, y : (a* x + b - y)**2, xs, labels)\n",
    "MSE_ld = sum(errors_ld)/len(xs)\n",
    "print(MSE_ld)\n",
    "\n"
   ]
  },
  {
   "cell_type": "code",
   "execution_count": 17,
   "metadata": {},
   "outputs": [
    {
     "name": "stdout",
     "output_type": "stream",
     "text": [
      "[0.8100000000000006, 0.6400000000000011]\n"
     ]
    }
   ],
   "source": [
    "# using filter \n",
    "bad_preds = filter(lambda x : x > 0.5, errors)\n",
    "print(list(bad_preds))"
   ]
  },
  {
   "cell_type": "code",
   "execution_count": 18,
   "metadata": {},
   "outputs": [
    {
     "name": "stdout",
     "output_type": "stream",
     "text": [
      "13.611328124999998\n"
     ]
    }
   ],
   "source": [
    "# reduce with lamda\n",
    "from functools import reduce\n",
    "product = reduce(lambda x, y: x * y, nums)\n",
    "print(product)"
   ]
  },
  {
   "cell_type": "code",
   "execution_count": 27,
   "metadata": {},
   "outputs": [
    {
     "name": "stdout",
     "output_type": "stream",
     "text": [
      "unpacked using elements,  0 1 2 3\n",
      "unpacked using all start operator 0 1 2 3 4 5 6 7 8 9\n",
      "new list with non-unpackelements, [4, 5, 6, 7, 8, 9]\n",
      "reverse,  [9, 8, 7, 6, 5, 4, 3, 2, 1, 0]\n"
     ]
    }
   ],
   "source": [
    "## working with lists\n",
    "# unpacking\n",
    "elems = list(range(10))\n",
    "a, b , c, d , *e = elems\n",
    "print(\"unpacked using elements, \", a, b, c, d)\n",
    "print(\"unpacked using all start operator\", *elems)\n",
    "print(\"new list with non-unpackelements,\" ,e)\n",
    "print(\"reverse, \",elems[::-1])\n"
   ]
  }
 ],
 "metadata": {
  "kernelspec": {
   "display_name": "Python 3",
   "language": "python",
   "name": "python3"
  },
  "language_info": {
   "codemirror_mode": {
    "name": "ipython",
    "version": 3
   },
   "file_extension": ".py",
   "mimetype": "text/x-python",
   "name": "python",
   "nbconvert_exporter": "python",
   "pygments_lexer": "ipython3",
   "version": "3.8.0"
  },
  "orig_nbformat": 4,
  "vscode": {
   "interpreter": {
    "hash": "76f3d5e912a864e6de7d4e86a584e56bbbd14237fc223dd3755ec0a4422cfb2f"
   }
  }
 },
 "nbformat": 4,
 "nbformat_minor": 2
}
